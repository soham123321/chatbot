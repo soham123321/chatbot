{
 "cells": [
  {
   "cell_type": "code",
   "execution_count": 21,
   "id": "6f9e1720-556f-463c-97cd-d6951185d83c",
   "metadata": {},
   "outputs": [],
   "source": [
    "from minio import Minio\n",
    "import json\n",
    "import pandas as pd\n",
    "from io import BytesIO\n",
    "import re\n",
    "\n",
    "minio_client = Minio(\n",
    "    \"minio:9000\",\n",
    "    access_key=\"minio\",\n",
    "    secret_key=\"SU2orange!\",\n",
    "    secure=False\n",
    ")\n"
   ]
  },
  {
   "cell_type": "code",
   "execution_count": 4,
   "id": "06c9afda-d8fc-48ce-a13a-0ffd5112042a",
   "metadata": {},
   "outputs": [],
   "source": [
    "def read_bucket_data(bucket_name):\n",
    "    objects = minio_client.list_objects(bucket_name, recursive=True)\n",
    "    data = []\n",
    "    for obj in objects:\n",
    "        response = minio_client.get_object(bucket_name, obj.object_name)\n",
    "        content = json.load(BytesIO(response.read()))\n",
    "        data.append(content)\n",
    "    return data\n",
    "\n",
    "def read_all_buckets():\n",
    "    buckets = minio_client.list_buckets()\n",
    "    all_data = []\n",
    "    for bucket in buckets:\n",
    "        bucket_name = bucket.name\n",
    "        all_data.extend(read_bucket_data(bucket_name))\n",
    "    return all_data"
   ]
  },
  {
   "cell_type": "code",
   "execution_count": 5,
   "id": "aaa7857e-093e-4585-9a98-74a6a242b17a",
   "metadata": {},
   "outputs": [],
   "source": [
    "all_data = read_all_buckets()"
   ]
  },
  {
   "cell_type": "code",
   "execution_count": 16,
   "id": "e753c719-7445-4b0f-89dd-5f7ad65e7d5a",
   "metadata": {},
   "outputs": [],
   "source": [
    "df = pd.DataFrame(all_data)\n",
    "df.dropna(subset=['title', 'content'], inplace=True)\n",
    "df['publishedAt'] = pd.to_datetime(df['publishedAt'])"
   ]
  },
  {
   "cell_type": "code",
   "execution_count": 18,
   "id": "0de5f9b7-63d8-4d78-8f12-82168d294cbe",
   "metadata": {},
   "outputs": [],
   "source": [
    "df['text'] = df['title'] + \" \" + df['content']\n",
    "df = df[['text']]"
   ]
  },
  {
   "cell_type": "code",
   "execution_count": 19,
   "id": "d91bec7b-37b0-422c-9463-8695bd6e5c46",
   "metadata": {},
   "outputs": [],
   "source": [
    "def preprocess_text(text):\n",
    "    text = re.sub(r'\\s+', ' ', text)  # Remove extra spaces\n",
    "    text = text.strip()  # Remove leading/trailing spaces\n",
    "    return text"
   ]
  },
  {
   "cell_type": "code",
   "execution_count": 22,
   "id": "c51e5a5e-09ef-4942-b6e3-cb10349d3b13",
   "metadata": {},
   "outputs": [],
   "source": [
    "df['text'] = df['text'].apply(preprocess_text)"
   ]
  }
 ],
 "metadata": {
  "kernelspec": {
   "display_name": "Python 3 (ipykernel)",
   "language": "python",
   "name": "python3"
  },
  "language_info": {
   "codemirror_mode": {
    "name": "ipython",
    "version": 3
   },
   "file_extension": ".py",
   "mimetype": "text/x-python",
   "name": "python",
   "nbconvert_exporter": "python",
   "pygments_lexer": "ipython3",
   "version": "3.9.6"
  }
 },
 "nbformat": 4,
 "nbformat_minor": 5
}
